{
 "cells": [
  {
   "cell_type": "markdown",
   "id": "5d2543ac-4a12-4df8-b347-2fe795ce6905",
   "metadata": {},
   "source": [
    "# Initialization method of Archetypal Analysis comparison"
   ]
  },
  {
   "cell_type": "code",
   "execution_count": 2,
   "id": "5515b1fd-ac87-4bcb-8135-5429f2b7335d",
   "metadata": {},
   "outputs": [],
   "source": [
    "from time import time\n",
    "\n",
    "import numpy as np\n",
    "import pandas as pd\n",
    "\n",
    "from Fungsi1 import *\n",
    "\n",
    "from AA_Original_init import *\n",
    "\n",
    "from PIL import Image\n",
    "import sewar"
   ]
  },
  {
   "cell_type": "markdown",
   "id": "1e8c6048-67d1-479e-aa92-8502010a14c9",
   "metadata": {},
   "source": [
    "### Compare duration for different k experiments\n",
    "We can test Archetypal Analysis with different k value."
   ]
  },
  {
   "cell_type": "code",
   "execution_count": null,
   "id": "bc2731e9-e3c3-4ab6-bfd9-30fe73b7bbaa",
   "metadata": {},
   "outputs": [],
   "source": [
    "#The initialize parameter : random, random_idx, furthest_sum, furthest_first, k_means_pp, aa_pp, and aa_coreset\n",
    "\n",
    "# Load data from Excel files\n",
    "data1 = pd.read_excel(\"results/random_idx/1/UWHVF_random_idx1_test_duration.xlsx\")  \n",
    "data2 = pd.read_excel(\"results/aa_coreset/1/UWHVF_aa_coreset1_test_duration.xlsx\")  \n",
    "data3 = pd.read_excel(\"results/k_means_pp/1/UWHVF_k_means_pp1_test_duration.xlsx\")  \n",
    "\n",
    "# Insert NaN at the start to shift data plotting to start from x=2\n",
    "nan_padding = [np.nan]  # Creates an empty space at x=1\n",
    "\n",
    "# Adjusted data with a leading NaN for shifting\n",
    "dur1 = nan_padding + list(data1['Duration'])\n",
    "dur2 = nan_padding + list(data2['Duration'])\n",
    "dur3 = nan_padding + list(data3['Duration'])\n",
    "\n",
    "# Create the x-axis indices (starts from 1 but first value is empty)\n",
    "x_values = np.arange(1, len(data2) + 2)  # +2 to account for NaN shift\n",
    "\n",
    "# Plot the first dataset\n",
    "plt.figure(figsize=(9, 5))\n",
    "plt.plot(x_values, dur1, label=\"random_idx\", marker='x', color='green')\n",
    "\n",
    "# Plot the second dataset\n",
    "plt.plot(x_values, dur2, label=\"aa_coreset\", marker='o', color='orange')\n",
    "\n",
    "# Plot the third dataset\n",
    "plt.plot(x_values, dur3, label=\"k_means_pp\", marker='o', color='red')\n",
    "\n",
    "# Set x-axis ticks correctly\n",
    "plt.xticks(np.arange(1, len(data2) + 2))  # Ensure labels start from 1\n",
    "\n",
    "# Add labels and title\n",
    "plt.xlabel(\"Number of archetypes\")\n",
    "plt.ylabel(\"Seconds\")\n",
    "plt.title(\"Time comparison for various initialization in Archetypal Analysis \\n (Data split 1)\")\n",
    "plt.legend()\n",
    "plt.grid()\n",
    "\n",
    "# Saving the figure.\n",
    "plt.savefig('results/UWHVF_test_duration.png')\n",
    "\n",
    "# Show the plot\n",
    "plt.show()"
   ]
  },
  {
   "cell_type": "markdown",
   "id": "a1bf1aa1-8396-43d3-97dc-94b75c073c43",
   "metadata": {},
   "source": [
    "[![JwcSm0.oriAA-UWHVF-1stsplit-Sens-10p-test-duration.png](https://i.im.ge/2025/07/25/JwcSm0.oriAA-UWHVF-1stsplit-Sens-10p-test-duration.png)](https://im.ge/i/oriAA-UWHVF-1stsplit-Sens-10p-test-duration.JwcSm0)"
   ]
  },
  {
   "cell_type": "markdown",
   "id": "d076e641-dc1f-485a-9580-fda08d7212ba",
   "metadata": {},
   "source": [
    "### Compare RSS for different k experiments\r",
    "We can use elbow method to find the optimal k value that will be used. ."
   ]
  },
  {
   "cell_type": "code",
   "execution_count": null,
   "id": "5dd39af4-6d46-413c-b6a7-f79a308000de",
   "metadata": {},
   "outputs": [],
   "source": [
    "#The initialize parameter : random, random_idx, furthest_sum, furthest_first, k_means_pp, aa_pp, and aa_coreset\n",
    "\n",
    "# Load data from Excel files\n",
    "data1 = pd.read_excel(\"results/random_idx/1/UWHVF_random_idx1_test_RSS.xlsx\")  \n",
    "data2 = pd.read_excel(\"results/aa_coreset/1/UWHVF_aa_coreset1_test_RSS.xlsx\")  \n",
    "data3 = pd.read_excel(\"results/k_means_pp/1/UWHVF_k_means_pp1_test_RSS.xlsx\")  \n",
    "\n",
    "# Insert NaN at the start to shift data plotting to start from x=2\n",
    "nan_padding = [np.nan]  # Creates an empty space at x=1\n",
    "\n",
    "# Adjusted data with a leading NaN for shifting\n",
    "dur1 = nan_padding + list(data1['RSS'])\n",
    "dur2 = nan_padding + list(data2['RSS'])\n",
    "dur3 = nan_padding + list(data3['RSS'])\n",
    "\n",
    "# Create the x-axis indices (starts from 1 but first value is empty)\n",
    "x_values = np.arange(1, len(data2) + 2)  # +2 to account for NaN shift\n",
    "\n",
    "# Plot the first dataset\n",
    "plt.figure(figsize=(9, 5))\n",
    "plt.plot(x_values, dur1, label=\"random_idx\", marker='x', color='green')\n",
    "\n",
    "# Plot the second dataset\n",
    "plt.plot(x_values, dur2, label=\"aa_coreset\", marker='o', color='orange')\n",
    "\n",
    "# Plot the third dataset\n",
    "plt.plot(x_values, dur3, label=\"k_means_pp\", marker='o', color='red')\n",
    "\n",
    "# Set x-axis ticks correctly\n",
    "plt.xticks(np.arange(1, len(data2) + 2))  # Ensure labels start from 1\n",
    "\n",
    "# Add labels and title\n",
    "plt.xlabel(\"Number of archetypes\")\n",
    "plt.ylabel(\"RSS\")\n",
    "plt.title(\"RSS comparison for various initialization in Archetypal Analysis \\n(UWHVF Data fold 1)\")\n",
    "plt.legend()\n",
    "plt.grid()\n",
    "\n",
    "# Saving the figure.\n",
    "plt.savefig('results/UWHVF_test_RSS.png')\n",
    "\n",
    "# Show the plot\n",
    "plt.show()"
   ]
  },
  {
   "cell_type": "markdown",
   "id": "f5088752-e422-4c80-b935-87ffafef48b5",
   "metadata": {},
   "source": [
    "[![oriAA_UWHVF_1stsplit_Sens_10p_test_RSS.png](https://pngup.com/bca7/oriAA_UWHVF_1stsplit_Sens_10p_test_RSS.png)](https://pngup.com/bca7)\n",
    "\n",
    "After examining the RSS values from k = 2 to k = 30, we observed that the RSS value continues to decrease as k increases. Using the elbow method, where k is chosen at the point where the decrease in RSS becomes less significant and forms an \"elbow\" or a \"knee\" in the curve. From the candidate k values, we further did qualitative analysis by visually inspecting the archetypes. Based on this combined assessment, we decided to use k = 19 as the optimal k. "
   ]
  },
  {
   "cell_type": "markdown",
   "id": "640318f1-0bde-45d3-8dc8-45a3cf177e87",
   "metadata": {},
   "source": [
    "### Comparison for different initialization methods.\n",
    "\n",
    "[![oriAA_UWHVF_1split_Sens_10p_test_RSS_1.png](https://pngup.com/XT4K/oriAA_UWHVF_1split_Sens_10p_test_RSS_1.png)](https://pngup.com/XT4K)"
   ]
  },
  {
   "cell_type": "markdown",
   "id": "4f63ea57-c5bb-4ceb-9aec-fae22dfbe43e",
   "metadata": {},
   "source": [
    "Actually, there is no significant difference in RSS values between the different initialization methods in Archetypal Analysis. Sometimes, the minimum value alternates between methods. Therefore, if we rely solely on the RSS value, it is somewhat difficult to determine which initialization method is the best.\n",
    "\n",
    "Therefore, we visualized the archetypes produced by each initialization method. Below is the visualization of the results for k = 19 for each initialization method."
   ]
  },
  {
   "cell_type": "markdown",
   "id": "2661951e-b7fa-4909-9a59-2a1562259ffc",
   "metadata": {},
   "source": [
    "#### aa_coreset\n",
    "[AA_UWHVF_aa_coreset_Sens_19_combined.png](https://pngup.com/1c2b/AA_UWHVF_aa_coreset_Sens_19_combined_r.png)\n",
    "\n",
    "#### furthest_first\n",
    "[AA_UWHVF_furthest_first_Sens_19_combined.png](https://pngup.com/GnUZ/oriAA_UWHVF_furthest_first_1split_Sens_10p_19_combined_r.png)\n",
    "\n",
    "#### furthest_sum\n",
    "[AA_UWHVF_furthest_sum_Sens_19_combined.png](https://pngup.com/qL3A/oriAA_UWHVF_furthest_sum_1split_Sens_10p_19_combined_r.png)\n",
    "\n",
    "#### k_means_pp\n",
    "[AA_UWHVF_k_means_pp_Sens_19_combined.png](https://pngup.com/2kQe/AA_UWHVF_k_means_pp_Sens_19_combined_r.png)\n",
    "\n",
    "#### random_idx\n",
    "[AA_UWHVF_random_idx_Sens_19_combined.png](https://pngup.com/UhK9/AA_UWHVF_random_idx_Sens_19_combined_r.png)"
   ]
  },
  {
   "cell_type": "markdown",
   "id": "6ed96cde-6ae2-4d1f-b876-60d240718005",
   "metadata": {},
   "source": [
    "Then, after a discussion with an ophthalmologist, the proposed methodology uses aa_coreset, k_means_pp, and random_idx, as the archetypes generated produce more diverse patterns."
   ]
  },
  {
   "cell_type": "markdown",
   "id": "8c1673e0-6ebd-4d23-8406-da52d7070153",
   "metadata": {},
   "source": [
    "### Choosing threshold value for pairwise comparison using SSIM \n",
    "\n",
    "SSIM (Structural Similarity Index Measure) values range from 0, meaning very different, to 1, meaning identical. Our goal in performing pairwise comparison is to identify similar patterns, from which one can be selected as a representative pattern. To determine similarity, we hypothesize that patterns with an SSIM value greater than 0.9 are considered similar.\n",
    "\n",
    "We used visual observation of the archetype visualizations in the pairwise comparison. If the chosen threshold is 0.9, then the two patterns below would be considered the same, even though they are actually different.\n",
    "\n",
    "[![img_011.png](https://pngup.com/jy0Y/img_011.png)](https://pngup.com/jy0Y)\n",
    "[![img_008.png](https://pngup.com/HNBp/img_008.png)](https://pngup.com/HNBp)\n",
    "\n",
    "If we choose a threshold of 0.91, then the following two pattern examples would be considered similar even though they are actually different.\n",
    "\n",
    "[![img_011.png](https://pngup.com/jy0Y/img_011.png)](https://pngup.com/jy0Y)\n",
    "[![img_010.png](https://pngup.com/xeTr/img_010.png)](https://pngup.com/xeTr)\n",
    "\n",
    "And if we choose a threshold of 0.92, then the two example images below would be considered the same, even though their structures are still different.\n",
    "\n",
    "[![img_011.png](https://pngup.com/jy0Y/img_011.png)](https://pngup.com/jy0Y)\n",
    "[![img_029.png](https://pngup.com/h3aF/img_029.png)](https://pngup.com/h3aF)\n",
    "\n",
    "Finally, we arrived at 0.93 as the threshold value for identifying similar patterns, based on an empirical process and expert review. As an example, the two images below would be considered the same using the 0.93 threshold. Structurally, the patterns are indeed similar.\n",
    "\n",
    "[![img_016.png](https://pngup.com/aX9P/img_016.png)](https://pngup.com/aX9P)\n",
    "[![img_033.png](https://pngup.com/R71J/img_033.png)](https://pngup.com/R71J)"
   ]
  },
  {
   "cell_type": "code",
   "execution_count": null,
   "id": "673ed1ae-6927-47e2-9ac9-42008d872dd7",
   "metadata": {},
   "outputs": [],
   "source": []
  }
 ],
 "metadata": {
  "kernelspec": {
   "display_name": "Python 3 (ipykernel)",
   "language": "python",
   "name": "python3"
  },
  "language_info": {
   "codemirror_mode": {
    "name": "ipython",
    "version": 3
   },
   "file_extension": ".py",
   "mimetype": "text/x-python",
   "name": "python",
   "nbconvert_exporter": "python",
   "pygments_lexer": "ipython3",
   "version": "3.12.4"
  }
 },
 "nbformat": 4,
 "nbformat_minor": 5
}
